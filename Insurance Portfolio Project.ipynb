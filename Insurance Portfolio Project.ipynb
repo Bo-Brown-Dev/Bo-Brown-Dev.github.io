{
 "cells": [
  {
   "cell_type": "markdown",
   "metadata": {},
   "source": [
    "# Project Scoping\n",
    "\n",
    "The dataset has 1339 rows with no missing data and contains the following columns:\n",
    "* age\n",
    "* sex\n",
    "* bmi\n",
    "* children\n",
    "* smoker\n",
    "* region\n",
    "* charges\n",
    "\n",
    "I want to know answers to the following questions:\n",
    "\n",
    "* does BMI correlate with charges? Is the correlation significant? Can we describe this with a line of best fit?\n",
    "* How do the average costs for males and females compare?\n",
    "* Which region paid the most in charges?\n",
    "* What region had the highest per capita charges?\n",
    "* How do the average costs for males and females compare?\n",
    "\n",
    "I begin by getting the dataset as DictReader object, and then organize the data into a tabular dictionary structure with keys as columns and values retained with index corresponding to row - 1:"
   ]
  },
  {
   "cell_type": "code",
   "execution_count": 118,
   "metadata": {},
   "outputs": [
    {
     "name": "stdout",
     "output_type": "stream",
     "text": [
      "dict_keys(['age', 'sex', 'bmi', 'children', 'smoker', 'region', 'charges'])\n"
     ]
    }
   ],
   "source": [
    "import csv\n",
    "import math\n",
    "insurance_data = {\n",
    "    'rows': []\n",
    "}\n",
    "\n",
    "with open(r\"C:\\Users\\bobro\\Downloads\\python-portfolio-project-starter-files\\python-portfolio-project-starter-files\\insurance.csv\") as insurance_csv:\n",
    "    insurance_reader = csv.DictReader(insurance_csv)\n",
    "    for row in insurance_reader:\n",
    "       insurance_data['rows'].append(row)\n",
    "\n",
    "clean_data ={\n",
    "    'age': [],\n",
    "    'sex': [],\n",
    "    'bmi': [],\n",
    "    'children': [],\n",
    "    'smoker': [],\n",
    "    'region': [],\n",
    "    'charges': [],\n",
    "    }\n",
    "\n",
    "i=0\n",
    "for row in insurance_data['rows']:\n",
    "    clean_data['age'].append(insurance_data['rows'][i]['age'])\n",
    "    clean_data['sex'].append(insurance_data['rows'][i]['sex'])\n",
    "    clean_data['bmi'].append(insurance_data['rows'][i]['bmi'])\n",
    "    clean_data['children'].append(insurance_data['rows'][i]['children'])\n",
    "    clean_data['smoker'].append(insurance_data['rows'][i]['smoker'])\n",
    "    clean_data['region'].append(insurance_data['rows'][i]['region'])\n",
    "    clean_data['charges'].append(insurance_data['rows'][i]['charges'])\n",
    "    i += 1\n",
    "\n",
    "\n",
    "\n",
    "\n",
    "print(clean_data.keys())\n",
    "\n"
   ]
  },
  {
   "cell_type": "markdown",
   "metadata": {},
   "source": [
    "Now we have organized our data into a dictionary with a key for each column and a value in each key for each row. We are ready to analyze this data. Below we begin our analysis:\n",
    "\n",
    "# Charges by Region\n",
    "\n",
    "First, what region paid the most in charges?"
   ]
  },
  {
   "cell_type": "code",
   "execution_count": 109,
   "metadata": {},
   "outputs": [
    {
     "name": "stdout",
     "output_type": "stream",
     "text": [
      "{'southwest': 4012754.65, 'southeast': 5363689.76, 'northwest': 4035712.0, 'northeast': 4343668.58}\n"
     ]
    }
   ],
   "source": [
    "charges_by_region = {\n",
    "    'southwest': 0,\n",
    "    'southeast': 0,\n",
    "    'northwest': 0,\n",
    "    'northeast': 0,\n",
    "}\n",
    "i=0\n",
    "for value in clean_data['region']:\n",
    "    if value == 'southwest':\n",
    "        charges_by_region['southwest'] += float(clean_data['charges'][i])\n",
    "    elif value == 'southeast':\n",
    "        charges_by_region['southeast'] += float(clean_data['charges'][i])\n",
    "    elif value == 'northwest':\n",
    "        charges_by_region['northwest'] += float(clean_data['charges'][i])\n",
    "    elif value == 'northeast':\n",
    "        charges_by_region['northeast'] += float(clean_data['charges'][i])\n",
    "    else: print('Error')\n",
    "    i += 1\n",
    "\n",
    "for item in charges_by_region:\n",
    "    charges_by_region[item] = round(charges_by_region[item], 2)\n",
    "\n",
    "print(charges_by_region)\n"
   ]
  },
  {
   "cell_type": "markdown",
   "metadata": {},
   "source": [
    "We see that by totals, the southeast paid by far the most in charges.\n",
    "\n",
    "# Per Capita Charges By Region\n",
    "\n",
    "I'm curious how this might be affected by discrepencies in regional sample size. Let's aggregate a count for records in these regions and calculate a per capita cost:"
   ]
  },
  {
   "cell_type": "code",
   "execution_count": 110,
   "metadata": {},
   "outputs": [
    {
     "name": "stdout",
     "output_type": "stream",
     "text": [
      "People in study by region: \n",
      " {'southwest': 325, 'southeast': 364, 'northwest': 325, 'northeast': 324} \n",
      " \n",
      "\n",
      "Per capita insurance cost by region: \n",
      " {'southwest': 12346.94, 'southeast': 14735.41, 'northwest': 12417.58, 'northeast': 13406.38}\n"
     ]
    }
   ],
   "source": [
    "record_count_by_region = {\n",
    "    'southwest': 0,\n",
    "    'southeast': 0,\n",
    "    'northwest': 0,\n",
    "    'northeast': 0, \n",
    "}\n",
    "\n",
    "for value in clean_data['region']:\n",
    "    record_count_by_region[value] += 1\n",
    "\n",
    "print('People in study by region: \\n', record_count_by_region, '\\n \\n')\n",
    "\n",
    "regional_per_capita_charges = {\n",
    "    'southwest': 0,\n",
    "    'southeast': 0,\n",
    "    'northwest': 0,\n",
    "    'northeast': 0,\n",
    "}\n",
    "\n",
    "for item in charges_by_region:\n",
    "    regional_per_capita_charges[item] = round((charges_by_region[item] / record_count_by_region[item]), 2)\n",
    "\n",
    "print('Per capita insurance cost by region: \\n', regional_per_capita_charges)\n"
   ]
  },
  {
   "cell_type": "markdown",
   "metadata": {},
   "source": [
    "Great! We've actually confirmed that for some reason, people in our dataset pay more for insurance when they live in the southeast.\n",
    "\n",
    "# Average Cost: Males vs. Females\n",
    "\n",
    "I want to see how the average cost of insurance compares between Males and Females. I calculate these below:"
   ]
  },
  {
   "cell_type": "code",
   "execution_count": 111,
   "metadata": {},
   "outputs": [
    {
     "name": "stdout",
     "output_type": "stream",
     "text": [
      "The average cost for males in our dataset was 13956.75 compared to the average cost for females in our dataset which is 12569.58\n"
     ]
    }
   ],
   "source": [
    "Female_vs_Male_Aggregates = {\n",
    "    'Sum Cost Females': 0,\n",
    "    'Count Females': 0,\n",
    "    'Sum Cost Males': 0,\n",
    "    'Count Males': 0,\n",
    "}\n",
    "\n",
    "i=0\n",
    "for item in clean_data['sex']:\n",
    "    if item == 'female':\n",
    "        Female_vs_Male_Aggregates['Sum Cost Females'] += float(clean_data['charges'][i])\n",
    "        Female_vs_Male_Aggregates['Count Females'] += 1\n",
    "    elif item == 'male':\n",
    "        Female_vs_Male_Aggregates['Sum Cost Males'] += float(clean_data['charges'][i])\n",
    "        Female_vs_Male_Aggregates['Count Males'] += 1\n",
    "    i += 1\n",
    "\n",
    "Female_vs_Male_Aggregates['Average Cost Females'] = round(Female_vs_Male_Aggregates['Sum Cost Females'] / Female_vs_Male_Aggregates['Count Females'], 2)\n",
    "Female_vs_Male_Aggregates['Average Cost Males'] = round(Female_vs_Male_Aggregates['Sum Cost Males'] / Female_vs_Male_Aggregates['Count Males'], 2)\n",
    "\n",
    "print('The average cost for males in our dataset was', Female_vs_Male_Aggregates['Average Cost Males'], 'compared to the average cost for females in our dataset which is', Female_vs_Male_Aggregates['Average Cost Females'] )\n"
   ]
  },
  {
   "cell_type": "markdown",
   "metadata": {},
   "source": [
    "I know I'm going to calculate BMI correlation to price next, and since we just calculated these averages for males and females, I want to anticipate a potential insight: I want to know whether the average cost for each gender might be influenced by the distribution of BMI within that gender. \n",
    "\n",
    "I'll calculate the mean, median, and standard deviation of bmi for each sex below:"
   ]
  },
  {
   "cell_type": "code",
   "execution_count": 112,
   "metadata": {},
   "outputs": [
    {
     "name": "stdout",
     "output_type": "stream",
     "text": [
      "{'male bmi mean': 30.943128698224843, 'male bmi median': 30.685, 'male bmi std dev': 6.135891193330869, 'female bmi mean': 30.377749244713023, 'female bmi median': 30.1, 'female bmi std dev': 6.041454877245923}\n"
     ]
    }
   ],
   "source": [
    "def take_mean(list_of_numbers):\n",
    "    mean = sum(list_of_numbers) / len(list_of_numbers)\n",
    "    return mean\n",
    "\n",
    "def take_median(list_of_numbers):\n",
    "    mid = (len(list_of_numbers) - 1) // 2\n",
    "    median = (list_of_numbers[mid])\n",
    "    return median\n",
    "\n",
    "def take_std_dev(list_of_numbers):\n",
    "    list_mean = take_mean(list_of_numbers)\n",
    "    sum_distances_sq = 0\n",
    "    for number in list_of_numbers:\n",
    "        distance_to_mean_sq = abs(number - list_mean)**2\n",
    "        sum_distances_sq += distance_to_mean_sq\n",
    "    std_dev = math.sqrt(sum_distances_sq / len(list_of_numbers))\n",
    "    return std_dev\n",
    "        \n",
    "\n",
    "bmi_distribution_lists = {\n",
    "    'male BMIs': [],\n",
    "    'female BMIs': [],\n",
    "\n",
    "}\n",
    "i = 0\n",
    "for item in clean_data['sex']:\n",
    "    if item == 'male':\n",
    "        bmi_distribution_lists['male BMIs'].append(float(clean_data['bmi'][i]))\n",
    "    elif item == 'female':\n",
    "        bmi_distribution_lists['female BMIs'].append(float(clean_data['bmi'][i]))\n",
    "    i += 1\n",
    "bmi_distribution_lists['male BMIs'].sort()\n",
    "bmi_distribution_lists['female BMIs'].sort()\n",
    "\n",
    "\n",
    "\n",
    "bmi_distribution_stats ={\n",
    "'male bmi mean': take_mean(bmi_distribution_lists['male BMIs']),\n",
    "'male bmi median': take_median(bmi_distribution_lists['male BMIs']),\n",
    "'male bmi std dev': take_std_dev(bmi_distribution_lists['male BMIs']),\n",
    "'female bmi mean': take_mean(bmi_distribution_lists['female BMIs']),\n",
    "'female bmi median': take_median(bmi_distribution_lists['female BMIs']),\n",
    "'female bmi std dev': take_std_dev(bmi_distribution_lists['female BMIs'])\n",
    "}\n",
    "\n",
    "print(bmi_distribution_stats)\n",
    "\n",
    "\n",
    "\n",
    "\n"
   ]
  },
  {
   "cell_type": "markdown",
   "metadata": {},
   "source": [
    "BMI seems to be distributed in a remarkably similar way across our data set. Means are very similar to medians, which means outliers are not likely influencing the data set, and both statistics are tightly grouped for males and females. This means we can analyze costs using sex and BMI as a variable, and we won't be conflating either of these variable's correlations.\n",
    "\n",
    "# Is BMI correlated to charges\n",
    "\n",
    "First, we should make bins and categorize people into bins based on their BMI. Then we should take the average charges for people in those bins and then see if there is any clear correlation. By making bins, we make the linear regression we will perform soon more robust to outliers and extreneous variables like the extremely high cost of insurance for smokers. If more smokers fall in one category than another, they will be considered in the average but the line will be based on those averages instead of skewing towards a group of smokers in a few blocks, or being pulled in any direction by a potential outlier."
   ]
  },
  {
   "cell_type": "code",
   "execution_count": 113,
   "metadata": {},
   "outputs": [
    {
     "name": "stdout",
     "output_type": "stream",
     "text": [
      "{'25+ Avg Cost': 13940.24, '24 Avg Cost': 12537.9, '23 Avg Cost': 9773.29, '22 Avg Cost': 10998.38, '21 Avg Cost': 9906.55, '20 Avg Cost': 7693.38, '19 Avg Cost': 8965.81, '18 Avg Cost': 10701.77, '17 Avg Cost': 8511.96, '16 Avg Cost': 4904.0, '15- Avg Cost': 1694.8}\n"
     ]
    }
   ],
   "source": [
    "bmi_aggregates = {\n",
    "    '25+ Count': 0,\n",
    "    '25+ Total Cost': 0,\n",
    "    '24 Count': 0,\n",
    "    '24 Total Cost': 0,\n",
    "    '23 Count': 0,\n",
    "    '23 Total Cost': 0,\n",
    "    '22 Count': 0,\n",
    "    '22 Total Cost': 0,\n",
    "    '21 Count': 0,\n",
    "    '21 Total Cost': 0,\n",
    "    '20 Count': 0,\n",
    "    '20 Total Cost': 0,\n",
    "    '19 Count': 0,\n",
    "    '19 Total Cost': 0,\n",
    "    '18 Count': 0,\n",
    "    '18 Total Cost': 0,\n",
    "    '17 Count': 0,\n",
    "    '17 Total Cost': 0,\n",
    "    '16 Count': 0,\n",
    "    '16 Total Cost': 0,\n",
    "    '15- Count': 0,\n",
    "    '15- Total Cost': 0,\n",
    "}\n",
    "\n",
    "bmi_avg_charges = {}\n",
    "\n",
    "i=0\n",
    "for item in clean_data['bmi']:\n",
    "    if float(item) >= 25:\n",
    "        bmi_aggregates['25+ Count'] += 1\n",
    "        bmi_aggregates['25+ Total Cost'] += float(clean_data['charges'][i])\n",
    "    elif float(item) >= 24:\n",
    "        bmi_aggregates['24 Count'] += 1\n",
    "        bmi_aggregates['24 Total Cost'] += float(clean_data['charges'][i])\n",
    "    elif float(item) >= 23:\n",
    "        bmi_aggregates['23 Count'] += 1\n",
    "        bmi_aggregates['23 Total Cost'] += float(clean_data['charges'][i])\n",
    "    elif float(item) >= 22:\n",
    "        bmi_aggregates['22 Count'] += 1\n",
    "        bmi_aggregates['22 Total Cost'] += float(clean_data['charges'][i])\n",
    "    elif float(item) >= 21:\n",
    "        bmi_aggregates['21 Count'] += 1\n",
    "        bmi_aggregates['21 Total Cost'] += float(clean_data['charges'][i])\n",
    "    elif float(item) >= 20:\n",
    "        bmi_aggregates['20 Count'] += 1\n",
    "        bmi_aggregates['20 Total Cost'] += float(clean_data['charges'][i])\n",
    "    elif float(item) >= 19:\n",
    "        bmi_aggregates['19 Count'] += 1\n",
    "        bmi_aggregates['19 Total Cost'] += float(clean_data['charges'][i])\n",
    "    elif float(item) >= 18:\n",
    "        bmi_aggregates['18 Count'] += 1\n",
    "        bmi_aggregates['18 Total Cost'] += float(clean_data['charges'][i])\n",
    "    elif float(item) >= 17:\n",
    "        bmi_aggregates['17 Count'] += 1\n",
    "        bmi_aggregates['17 Total Cost'] += float(clean_data['charges'][i])\n",
    "    elif float(item) >= 16:\n",
    "        bmi_aggregates['16 Count'] += 1\n",
    "        bmi_aggregates['16 Total Cost'] += float(clean_data['charges'][i])\n",
    "    elif float(item) <= 16:\n",
    "        bmi_aggregates['15- Count'] += 1\n",
    "        bmi_aggregates['15- Total Cost'] += float(clean_data['charges'][i])\n",
    "    i+=1\n",
    "try: \n",
    "    bmi_avg_charges['25+ Avg Cost'] = round(bmi_aggregates['25+ Total Cost'] / bmi_aggregates['25+ Count'], 2)\n",
    "    bmi_avg_charges['24 Avg Cost'] = round(bmi_aggregates['24 Total Cost'] / bmi_aggregates['24 Count'], 2)\n",
    "    bmi_avg_charges['23 Avg Cost'] = round(bmi_aggregates['23 Total Cost'] / bmi_aggregates['23 Count'], 2)\n",
    "    bmi_avg_charges['22 Avg Cost'] = round(bmi_aggregates['22 Total Cost'] / bmi_aggregates['22 Count'], 2)\n",
    "    bmi_avg_charges['21 Avg Cost'] = round(bmi_aggregates['21 Total Cost'] / bmi_aggregates['21 Count'], 2)\n",
    "    bmi_avg_charges['20 Avg Cost'] = round(bmi_aggregates['20 Total Cost'] / bmi_aggregates['20 Count'], 2)\n",
    "    bmi_avg_charges['19 Avg Cost'] = round(bmi_aggregates['19 Total Cost'] / bmi_aggregates['19 Count'], 2)\n",
    "    bmi_avg_charges['18 Avg Cost'] = round(bmi_aggregates['18 Total Cost'] / bmi_aggregates['18 Count'], 2)\n",
    "    bmi_avg_charges['17 Avg Cost'] = round(bmi_aggregates['17 Total Cost'] / bmi_aggregates['17 Count'], 2)\n",
    "    bmi_avg_charges['16 Avg Cost'] = round(bmi_aggregates['16 Total Cost'] / bmi_aggregates['16 Count'], 2)\n",
    "    bmi_avg_charges['15- Avg Cost'] = round(bmi_aggregates['15- Total Cost'] / bmi_aggregates['15- Count'], 2)\n",
    "except: print('error: Divide by 0')\n",
    "   \n",
    "print(bmi_avg_charges)\n",
    "\n"
   ]
  },
  {
   "cell_type": "markdown",
   "metadata": {},
   "source": [
    "There is a pretty obvious positive correlation between bmi and insurance cost. generally, as bmi increases so does insurance cost.\n",
    "\n",
    "# Linear Regression for Correlation\n",
    "\n",
    "Let's use a linear regression to test our intuition:\n",
    "\n",
    "\n"
   ]
  },
  {
   "cell_type": "code",
   "execution_count": 114,
   "metadata": {},
   "outputs": [
    {
     "name": "stdout",
     "output_type": "stream",
     "text": [
      "{'points_evaluated': [(25, 13940.24), (24, 12537.9), (23, 9773.29), (22, 10998.38), (21, 9906.55), (20, 7693.38), (19, 8965.81), (18, 10701.77), (17, 8511.96), (16, 4904.0), (15, 1694.8)], 'slope': 577, 'intercept': -1997, 'total_error': 16371.419999999998}\n"
     ]
    }
   ],
   "source": [
    "def get_y(m, x, b):\n",
    "    y = m*x + b\n",
    "    return y\n",
    "\n",
    "def get_error(m, b, point):\n",
    "    x_point = point[0]\n",
    "    y_point = point[1]\n",
    "    y_line =get_y (m, x_point, b)\n",
    "    y_dist = abs(y_point - y_line)\n",
    "    return y_dist\n",
    "\n",
    "i=25\n",
    "points = []\n",
    "for item in bmi_avg_charges:\n",
    "    new_point = (i, bmi_avg_charges[item])\n",
    "    points.append(new_point)\n",
    "    i -= 1\n",
    "\n",
    "\n",
    "def get_total_error(m, b, point_list):\n",
    "    total_error = 0\n",
    "    for point in point_list:\n",
    "        total_error = total_error + get_error(m, b, point)\n",
    "    return total_error\n",
    "\n",
    "\n",
    "\n",
    "def simple_linear_regression(point_list, slope_max = 1000, slope_min = -1000, intercept_max = 2000, intercept_min = -2000):\n",
    "    smallest_error = float('inf')\n",
    "    best_slope = 0\n",
    "    best_intercept = 0\n",
    "\n",
    "    possible_slopes = [i for i in range(slope_min, slope_max + 1)]\n",
    "    possible_intercepts = [i for i in range(intercept_min, intercept_max + 1)]\n",
    "    for slope in possible_slopes:\n",
    "        for intercept in possible_intercepts:\n",
    "            test_error = get_total_error(slope, intercept, point_list)\n",
    "            if test_error < smallest_error:\n",
    "                best_slope = slope\n",
    "                best_intercept = intercept\n",
    "                smallest_error = test_error\n",
    "    return {\n",
    "        'points_evaluated': point_list,\n",
    "        'slope': best_slope,\n",
    "        'intercept': best_intercept,\n",
    "        'total_error': smallest_error\n",
    "    }\n",
    "\n",
    "bmi_best_fit = simple_linear_regression(points)\n",
    "\n",
    "print(bmi_best_fit)\n",
    "\n",
    "    "
   ]
  },
  {
   "cell_type": "markdown",
   "metadata": {},
   "source": [
    "So we can see that a line of best fit would correlate each bmi point as worth about $577 worth of charges."
   ]
  }
 ],
 "metadata": {
  "kernelspec": {
   "display_name": "Python 3.9.13 ('Codecademy')",
   "language": "python",
   "name": "python3"
  },
  "language_info": {
   "codemirror_mode": {
    "name": "ipython",
    "version": 3
   },
   "file_extension": ".py",
   "mimetype": "text/x-python",
   "name": "python",
   "nbconvert_exporter": "python",
   "pygments_lexer": "ipython3",
   "version": "3.9.13"
  },
  "orig_nbformat": 4,
  "vscode": {
   "interpreter": {
    "hash": "dd89861c4c5d9317262144742131b5b26f2981d1f159afded27b7e76e0c8f273"
   }
  }
 },
 "nbformat": 4,
 "nbformat_minor": 2
}
